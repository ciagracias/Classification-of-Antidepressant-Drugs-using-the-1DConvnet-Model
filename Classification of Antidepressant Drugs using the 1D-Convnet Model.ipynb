{
 "cells": [
  {
   "cell_type": "markdown",
   "id": "097c1ce5",
   "metadata": {},
   "source": [
    "# Classification of Antidepressant Drugs using the 1D-Convnet Model"
   ]
  },
  {
   "cell_type": "markdown",
   "id": "a093f62b",
   "metadata": {},
   "source": [
    "This program is used to classify drugs into 5 classes including SSRIs (Selective Serotonin Reuptake Inhibitors) and Atypical Antipsychotics using the CNN derivative model, namely 1D-Convnet."
   ]
  },
  {
   "cell_type": "markdown",
   "id": "29aa8612",
   "metadata": {},
   "source": [
    "### IMPORT THE LIBRARY"
   ]
  },
  {
   "cell_type": "code",
   "execution_count": 1,
   "id": "9b44b734",
   "metadata": {},
   "outputs": [],
   "source": [
    "import seaborn as sns \n",
    "import numpy as np \n",
    "import pandas as pd \n",
    "import matplotlib.pyplot as plt \n",
    "import scikitplot as skplt \n",
    "import wordcloud\n",
    "import re \n",
    "import string \n",
    "import os \n",
    "import nltk \n",
    "\n",
    "from sklearn.preprocessing import LabelEncoder\n",
    "from sklearn.model_selection import train_test_split \n",
    "from sklearn import metrics \n",
    "from sklearn.metrics import confusion_matrix \n",
    "from sklearn.metrics import accuracy_score, classification_report \n",
    "from sklearn.preprocessing import MinMaxScaler\n",
    "from sklearn.metrics import precision_score, recall_score, f1_score, average_precision_score \n",
    "from keras import layers \n",
    "from keras import models \n",
    "from keras.callbacks import EarlyStopping  \n",
    "from keras.preprocessing.text import Tokenizer\n",
    "from keras.models import Sequential\n",
    "from keras.layers import Dense, Conv1D, Flatten, MaxPooling1D, Dropout, LeakyReLU \n",
    "from tensorflow.keras.preprocessing.sequence import pad_sequences \n",
    "from collections import Counter\n",
    "from nltk.corpus import stopwords"
   ]
  },
  {
   "cell_type": "markdown",
   "id": "4526c65e",
   "metadata": {},
   "source": [
    "### DATASET PREPARATION"
   ]
  },
  {
   "cell_type": "code",
   "execution_count": 2,
   "id": "404880b7",
   "metadata": {},
   "outputs": [],
   "source": [
    "# IMPORT DATASET\n",
    "\n",
    "dataset = \"C:\\\\Users\\Gracia Rizka Pasfica\\Documents\\Github\\Pyhton\\Text\\Antidepressant Drugs Classification\\Dataset\" "
   ]
  },
  {
   "cell_type": "code",
   "execution_count": 3,
   "id": "0d90689f",
   "metadata": {},
   "outputs": [],
   "source": [
    "# FOLDER IDENTIFICATION\n",
    "\n",
    "# Saving folder\n",
    "ssri_dataset = dataset + \"/\" + \"ssri\"\n",
    "atipikal_dataset = dataset + \"/\" + \"atypical\" \n",
    "\n",
    "# Read and save file in folder\n",
    "ssri_filenames = os.listdir(ssri_dataset) \n",
    "atipikal_filenames = os.listdir(atipikal_dataset) "
   ]
  },
  {
   "cell_type": "code",
   "execution_count": 4,
   "id": "3b53ab29",
   "metadata": {},
   "outputs": [],
   "source": [
    "# READ FILES\n",
    "\n",
    "def load_text(path): \n",
    "    file = open(path,\"r\")\n",
    "    x_data = file.read() \n",
    "    file.close() \n",
    "    return x_data \n",
    "\n",
    "def load_data(path): \n",
    "    return load_text(path) "
   ]
  },
  {
   "cell_type": "code",
   "execution_count": 5,
   "id": "b122d785",
   "metadata": {},
   "outputs": [],
   "source": [
    "# CREATE INDEPENDENT (x) and DEPENDENT (y) DATA\n",
    "\n",
    "def get_data(folder_path, file_names, y_data): \n",
    "    x = list() \n",
    "    y = list() \n",
    "    for i in file_names:\n",
    "        full_path = folder_path + \"/\" + i \n",
    "        x_data = load_data(path = full_path) \n",
    "        x.append(x_data) \n",
    "        y.append(y_data) \n",
    "    return x, y "
   ]
  },
  {
   "cell_type": "code",
   "execution_count": 6,
   "id": "b056cd71",
   "metadata": {},
   "outputs": [],
   "source": [
    "# INITIATION SSRI DATA\n",
    "\n",
    "ssri_x, ssri_y = get_data(\n",
    "    folder_path = ssri_dataset, \n",
    "    file_names = ssri_filenames,\n",
    "    y_data = \"SSRI (Selective Serotonin Reuptake Inhibitors)\" \n",
    ") "
   ]
  },
  {
   "cell_type": "code",
   "execution_count": 7,
   "id": "4b54b8ce",
   "metadata": {},
   "outputs": [],
   "source": [
    "# INTITIATION ATYPICAL DATA\n",
    "\n",
    "atipikal_x, atipikal_y = get_data(\n",
    "    folder_path = atipikal_dataset, \n",
    "    file_names = atipikal_filenames, \n",
    "    y_data = \"Atypical Antipsychotics\" \n",
    ")"
   ]
  },
  {
   "cell_type": "code",
   "execution_count": 8,
   "id": "713de725",
   "metadata": {},
   "outputs": [],
   "source": [
    "# COMBINED SSRI AND ATYPICAL DATA\n",
    "\n",
    "x = ssri_x + atipikal_x \n",
    "y = ssri_y + atipikal_y "
   ]
  },
  {
   "cell_type": "code",
   "execution_count": 9,
   "id": "cf13e272",
   "metadata": {},
   "outputs": [
    {
     "name": "stdout",
     "output_type": "stream",
     "text": [
      "SSRI Label     :  385\n",
      "SSRI Target    :  385\n",
      "Atypical Label :  383\n",
      "Atypical Target:  383\n",
      "Label Data     :  768\n",
      "Target Data    :  768\n"
     ]
    }
   ],
   "source": [
    "print(\"SSRI Label     : \",len(ssri_x))\n",
    "print(\"SSRI Target    : \",len(ssri_y))\n",
    "print(\"Atypical Label : \",len(atipikal_x))\n",
    "print(\"Atypical Target: \",len(atipikal_y))\n",
    "print(\"Label Data     : \",len(x))\n",
    "print(\"Target Data    : \",len(y))"
   ]
  },
  {
   "cell_type": "code",
   "execution_count": 10,
   "id": "6401268c",
   "metadata": {},
   "outputs": [
    {
     "data": {
      "image/png": "[encoded data removed]",
      "text/plain": [
       "<Figure size 600x600 with 1 Axes>"
      ]
     },
     "metadata": {},
     "output_type": "display_data"
    }
   ],
   "source": [
    "# DATA VISUALIZATION\n",
    "\n",
    "total_ssriX = len(ssri_x) \n",
    "total_ssriY = len(ssri_y)\n",
    "total_atipikalX = len(atipikal_x)\n",
    "total_atipikalY = len(atipikal_y)\n",
    "\n",
    "count = [total_ssriX, total_ssriY, total_atipikalX, total_atipikalY]\n",
    "label = ['SSRI (x)', 'SSRI (y)', 'ATIPIKAL (x)', 'ATIPIKAL (y)']\n",
    "color = sns.color_palette(['tab:grey', 'tab:pink', 'tab:grey', 'tab:pink'])[0:4]\n",
    "explode = (0.05, 0, 0.05, 0)\n",
    "\n",
    "plt.figure(figsize=(6,6))\n",
    "plt.pie(count, labels = label, colors= color, autopct='%1.0f%%', explode = explode)\n",
    "\n",
    "plt.show()"
   ]
  },
  {
   "cell_type": "markdown",
   "id": "3e8a2eb3",
   "metadata": {},
   "source": [
    "### DATASET PREPROCESSING"
   ]
  },
  {
   "cell_type": "code",
   "execution_count": 11,
   "id": "d09fad6d",
   "metadata": {},
   "outputs": [],
   "source": [
    "# Encoding Data Variabel y\n",
    "le = LabelEncoder() \n",
    "le.fit(y) \n",
    "y = le.transform(y)"
   ]
  },
  {
   "cell_type": "code",
   "execution_count": 12,
   "id": "9f5c58d2",
   "metadata": {},
   "outputs": [],
   "source": [
    "# CASE FOLDING\n",
    "\n",
    "class LowerText:\n",
    "    def process(self, text):\n",
    "        return text.lower() "
   ]
  },
  {
   "cell_type": "code",
   "execution_count": 13,
   "id": "2cba7760",
   "metadata": {},
   "outputs": [],
   "source": [
    "# VECTORIZATION\n",
    "\n",
    "class VectorizeText:\n",
    "    def __init__(self):\n",
    "        pass\n",
    "    def process(self, text):\n",
    "        return text.split()"
   ]
  },
  {
   "cell_type": "code",
   "execution_count": 14,
   "id": "92ed0717",
   "metadata": {},
   "outputs": [],
   "source": [
    "# FILTER PUCNTUATION\n",
    "\n",
    "class FilterPunctuation:\n",
    "    def process(self, text):\n",
    "        reg_exp = re.compile(\"[%s]\"%re.escape(string.punctuation))\n",
    "        text = [reg_exp.sub(\"\", word) for word in text] \n",
    "        return text"
   ]
  },
  {
   "cell_type": "code",
   "execution_count": 15,
   "id": "bd3717a3",
   "metadata": {},
   "outputs": [],
   "source": [
    "# FILTER NON ALPHABET\n",
    "\n",
    "class FilterNonAlpha:\n",
    "    def process(self, text):\n",
    "        text = [word for word in text if word.isalpha()] \n",
    "        return text"
   ]
  },
  {
   "cell_type": "code",
   "execution_count": 16,
   "id": "d566a6e7",
   "metadata": {},
   "outputs": [],
   "source": [
    "# TEXT PREPROCESSING\n",
    "\n",
    "class TempProcess:\n",
    "    def __init__(self, process_list):\n",
    "        self.process_list = process_list \n",
    "    def process(self, text):\n",
    "        for process in self.process_list:\n",
    "            text = process.process(text) \n",
    "        return text"
   ]
  },
  {
   "cell_type": "code",
   "execution_count": 17,
   "id": "9f0506fb",
   "metadata": {},
   "outputs": [],
   "source": [
    "# TEXT PREPROCESSING\n",
    "\n",
    "lowerText = LowerText()\n",
    "vecText = VectorizeText()\n",
    "filterPunct = FilterPunctuation()\n",
    "filterNona = FilterNonAlpha()\n",
    "\n",
    "TextPreprocessing = [lowerText,\n",
    "                     vecText,\n",
    "                     filterPunct,\n",
    "                     filterNona\n",
    "                    ]\n",
    "\n",
    "TextPreprocessingResult = TempProcess(process_list = TextPreprocessing)"
   ]
  },
  {
   "cell_type": "code",
   "execution_count": 18,
   "id": "c5d79b59",
   "metadata": {},
   "outputs": [],
   "source": [
    "def process_text(texts, textProcess):\n",
    "    process_texts=list()\n",
    "    for text in texts:\n",
    "        process_text = textProcess.process(text)\n",
    "        process_texts.append(process_text)\n",
    "    return process_texts"
   ]
  },
  {
   "cell_type": "code",
   "execution_count": 19,
   "id": "01bcedd9",
   "metadata": {},
   "outputs": [
    {
     "name": "stdout",
     "output_type": "stream",
     "text": [
      "Train / Test Split ...\n",
      "\n",
      "The length of the training data size (x) : 537\n",
      "The length of the training data size (y) : 537\n",
      "The length of the test data measure  (x) : 231\n",
      "The length of the test data measure  (y) : 231\n"
     ]
    }
   ],
   "source": [
    "# TRAIN / TEST SPLIT\n",
    "\n",
    "X_train, X_test, y_train, y_test = train_test_split(\n",
    "    x,\n",
    "    y,\n",
    "    test_size = 0.3,\n",
    "    stratify = y,\n",
    "    random_state = 24)\n",
    "\n",
    "print(\"Train / Test Split ...\\n\")\n",
    "print(\"The length of the training data size (x) :\",len(X_train))\n",
    "print(\"The length of the training data size (y) :\",len(y_train))\n",
    "print(\"The length of the test data measure  (x) :\",len(X_test))\n",
    "print(\"The length of the test data measure  (y) :\",len(y_test))"
   ]
  },
  {
   "cell_type": "code",
   "execution_count": 20,
   "id": "6f22c555",
   "metadata": {},
   "outputs": [
    {
     "data": {
      "image/png": "[encoded data removed]",
      "text/plain": [
       "<Figure size 640x480 with 1 Axes>"
      ]
     },
     "metadata": {},
     "output_type": "display_data"
    }
   ],
   "source": [
    "# DATA VISUALIZATION\n",
    "\n",
    "total_xTrain = len(X_train)\n",
    "total_yTrain = len(y_train)\n",
    "total_xTest = len(X_test)\n",
    "total_yTest = len(y_test)\n",
    "\n",
    "fig, ax = plt.subplots() \n",
    "\n",
    "var_x = ['X_train', 'y_train', 'X_test', 'y_test']\n",
    "counts = [total_xTrain, total_yTrain, total_xTest, total_yTest]\n",
    "bar_colors = ['tab:pink', 'tab:grey', 'tab:pink', 'tab:grey']\n",
    "\n",
    "ax.bar(var_x, counts, color = bar_colors)\n",
    "\n",
    "ax.set_ylabel('Frequency')\n",
    "ax.set_title('TRAIN / TEST SPLIT VISUALIZATION')\n",
    "\n",
    "plt.show()"
   ]
  },
  {
   "cell_type": "code",
   "execution_count": 21,
   "id": "98cff63e",
   "metadata": {},
   "outputs": [
    {
     "name": "stdout",
     "output_type": "stream",
     "text": [
      "X_train processed...\n",
      "X_test processed...\n"
     ]
    }
   ],
   "source": [
    "X_train_process = process_text(texts = X_train, textProcess = TextPreprocessingResult)\n",
    "print(\"X_train processed...\")\n",
    "\n",
    "X_test_process = process_text(texts = X_test, textProcess = TextPreprocessingResult)\n",
    "print(\"X_test processed...\")"
   ]
  },
  {
   "cell_type": "code",
   "execution_count": 22,
   "id": "3de079e0",
   "metadata": {},
   "outputs": [],
   "source": [
    "def tokenizer(texts):\n",
    "    tokenizer = Tokenizer() \n",
    "    tokenizer.fit_on_texts(texts) \n",
    "    return tokenizer"
   ]
  },
  {
   "cell_type": "code",
   "execution_count": 23,
   "id": "a2e44b00",
   "metadata": {},
   "outputs": [],
   "source": [
    "def encode_text(tokenizer, max_lengths, texts):\n",
    "    encoded = tokenizer.texts_to_sequences(texts)\n",
    "    padded = pad_sequences(encoded, maxlen = max_length, padding = \"post\")\n",
    "    return padded"
   ]
  },
  {
   "cell_type": "code",
   "execution_count": 24,
   "id": "a2daccae",
   "metadata": {},
   "outputs": [
    {
     "name": "stdout",
     "output_type": "stream",
     "text": [
      "Vocabulary size: 274\n"
     ]
    }
   ],
   "source": [
    "tokenizer = tokenizer(texts = X_train) # melakukan proses tokenizer\n",
    "vocab_size = len(tokenizer.word_index) + 1 # menghitung keseluruhan kata unik yang dijadikan tokenisasi\n",
    "print(\"Vocabulary size:\", vocab_size)"
   ]
  },
  {
   "cell_type": "code",
   "execution_count": 25,
   "id": "c89657d6",
   "metadata": {},
   "outputs": [
    {
     "name": "stdout",
     "output_type": "stream",
     "text": [
      "Maximum length: 60\n"
     ]
    }
   ],
   "source": [
    "max_length = max([len(row.split()) for row in X_train]) # menghitung ukuran data terpanjang\n",
    "print(\"Maximum length:\", max_length)"
   ]
  },
  {
   "cell_type": "code",
   "execution_count": 26,
   "id": "829671a7",
   "metadata": {},
   "outputs": [],
   "source": [
    "X_train_encoded = encode_text(tokenizer, max_length, X_train_process) \n",
    "X_test_encoded = encode_text(tokenizer, max_length, X_test_process) "
   ]
  },
  {
   "cell_type": "markdown",
   "id": "db4a60fe",
   "metadata": {},
   "source": [
    "### TRAINING MODELS"
   ]
  },
  {
   "cell_type": "code",
   "execution_count": 27,
   "id": "69b7a10e",
   "metadata": {},
   "outputs": [],
   "source": [
    "def create_model(vocab_size, max_length):\n",
    "    model = models.Sequential()\n",
    "    model.add(layers.Embedding(vocab_size, 100, input_length = max_length))\n",
    "    model.add(layers.Conv1D(filters = 32,kernel_size = 8, activation = \"relu\"))\n",
    "    model.add(layers.MaxPooling1D(2))\n",
    "    model.add(layers.Flatten())\n",
    "    model.add(layers.Dense(10, activation=\"relu\"))\n",
    "    model.add(layers.Dense(1, activation=\"sigmoid\"))\n",
    "    return model"
   ]
  },
  {
   "cell_type": "code",
   "execution_count": 28,
   "id": "65484dbe",
   "metadata": {},
   "outputs": [
    {
     "name": "stdout",
     "output_type": "stream",
     "text": [
      "Model: \"sequential\"\n",
      "_________________________________________________________________\n",
      " Layer (type)                Output Shape              Param #   \n",
      "=================================================================\n",
      " embedding (Embedding)       (None, 60, 100)           27400     \n",
      "                                                                 \n",
      " conv1d (Conv1D)             (None, 53, 32)            25632     \n",
      "                                                                 \n",
      " max_pooling1d (MaxPooling1D  (None, 26, 32)           0         \n",
      " )                                                               \n",
      "                                                                 \n",
      " flatten (Flatten)           (None, 832)               0         \n",
      "                                                                 \n",
      " dense (Dense)               (None, 10)                8330      \n",
      "                                                                 \n",
      " dense_1 (Dense)             (None, 1)                 11        \n",
      "                                                                 \n",
      "=================================================================\n",
      "Total params: 61,373\n",
      "Trainable params: 61,373\n",
      "Non-trainable params: 0\n",
      "_________________________________________________________________\n"
     ]
    }
   ],
   "source": [
    "embedding_model = create_model(vocab_size=vocab_size, max_length=max_length)\n",
    "embedding_model.summary() "
   ]
  },
  {
   "cell_type": "code",
   "execution_count": 29,
   "id": "38758b1f",
   "metadata": {},
   "outputs": [],
   "source": [
    "embedding_model.compile(loss=\"binary_crossentropy\", optimizer=\"adam\", metrics=[\"accuracy\"])"
   ]
  },
  {
   "cell_type": "code",
   "execution_count": 30,
   "id": "c40be397",
   "metadata": {},
   "outputs": [
    {
     "name": "stdout",
     "output_type": "stream",
     "text": [
      "Epoch 1/10\n",
      "34/34 [==============================] - 3s 31ms/step - loss: 0.4509 - accuracy: 0.8529 - val_loss: 0.1471 - val_accuracy: 0.9827\n",
      "Epoch 2/10\n",
      "34/34 [==============================] - 1s 18ms/step - loss: 0.0398 - accuracy: 0.9981 - val_loss: 0.0413 - val_accuracy: 0.9870\n",
      "Epoch 3/10\n",
      "34/34 [==============================] - 1s 15ms/step - loss: 0.0082 - accuracy: 0.9981 - val_loss: 0.0226 - val_accuracy: 0.9870\n",
      "Epoch 4/10\n",
      "34/34 [==============================] - 1s 15ms/step - loss: 0.0080 - accuracy: 0.9981 - val_loss: 0.0086 - val_accuracy: 0.9957\n",
      "Epoch 5/10\n",
      "34/34 [==============================] - 1s 15ms/step - loss: 0.0031 - accuracy: 0.9981 - val_loss: 0.0043 - val_accuracy: 1.0000\n",
      "Epoch 6/10\n",
      "34/34 [==============================] - 1s 15ms/step - loss: 0.0012 - accuracy: 1.0000 - val_loss: 0.0082 - val_accuracy: 0.9957\n",
      "Epoch 7/10\n",
      "34/34 [==============================] - 1s 15ms/step - loss: 0.0013 - accuracy: 1.0000 - val_loss: 0.0020 - val_accuracy: 1.0000\n",
      "Epoch 8/10\n",
      "34/34 [==============================] - 1s 15ms/step - loss: 6.4315e-04 - accuracy: 1.0000 - val_loss: 0.0038 - val_accuracy: 1.0000\n",
      "Epoch 9/10\n",
      "34/34 [==============================] - 1s 15ms/step - loss: 4.1739e-04 - accuracy: 1.0000 - val_loss: 0.0029 - val_accuracy: 1.0000\n",
      "Epoch 10/10\n",
      "34/34 [==============================] - 1s 15ms/step - loss: 2.7901e-04 - accuracy: 1.0000 - val_loss: 0.0023 - val_accuracy: 1.0000\n",
      "Model trained...\n"
     ]
    }
   ],
   "source": [
    "modelHistory = embedding_model.fit(X_train_encoded, \n",
    "                                   y_train, \n",
    "                                   batch_size = 16, \n",
    "                                   validation_data = (X_test_encoded, y_test),\n",
    "                                   epochs = 10)\n",
    "\n",
    "print(\"Model trained...\")"
   ]
  },
  {
   "cell_type": "markdown",
   "id": "68b4bd01",
   "metadata": {},
   "source": [
    "### ACURACCY"
   ]
  },
  {
   "cell_type": "code",
   "execution_count": 31,
   "id": "7e5a9432",
   "metadata": {},
   "outputs": [],
   "source": [
    "_, acc = embedding_model.evaluate(X_train_encoded, y_train, verbose=0)\n",
    "_,acc= embedding_model.evaluate(X_test_encoded, y_test, verbose=0)"
   ]
  },
  {
   "cell_type": "code",
   "execution_count": 32,
   "id": "5f32a02d",
   "metadata": {},
   "outputs": [
    {
     "name": "stdout",
     "output_type": "stream",
     "text": [
      "Train accuracy:100.00\n",
      "Test accuracy:100.00\n"
     ]
    }
   ],
   "source": [
    "print(\"Train accuracy:{:.2f}\".format(acc*100))\n",
    "print(\"Test accuracy:{:.2f}\".format(acc*100))"
   ]
  },
  {
   "cell_type": "code",
   "execution_count": 33,
   "id": "58703c92",
   "metadata": {},
   "outputs": [
    {
     "name": "stdout",
     "output_type": "stream",
     "text": [
      "Test Accuracy : 100.00 %\n"
     ]
    }
   ],
   "source": [
    "target_classes = [\"SSRI\", \"Atypical\", \"Tricyclic\"]\n",
    "predictY = embedding_model.predict(X_test_encoded, verbose=0)\n",
    "print(\"Test Accuracy : {:.2f}\".format(accuracy_score(y_test, predictY.round())*100),\"%\")"
   ]
  },
  {
   "cell_type": "code",
   "execution_count": 34,
   "id": "1fc5008b",
   "metadata": {},
   "outputs": [
    {
     "data": {
      "image/png": "[encoded data removed]",
      "text/plain": [
       "<Figure size 500x500 with 2 Axes>"
      ]
     },
     "metadata": {},
     "output_type": "display_data"
    }
   ],
   "source": [
    "f, ax = plt.subplots(figsize=(5,5))\n",
    "sns.heatmap(\n",
    "    confusion_matrix(y_test, predictY.round()), \n",
    "    annot=True, \n",
    "    fmt=\".0f\", \n",
    "    ax=ax, \n",
    "    cmap=\"Blues\"\n",
    ")\n",
    "plt.xlabel(\"Predicted Label\")\n",
    "plt.ylabel(\"True Label\")\n",
    "plt.show()"
   ]
  },
  {
   "cell_type": "markdown",
   "id": "73ee6ff7",
   "metadata": {},
   "source": [
    "### MODEL VISUALIZATION "
   ]
  },
  {
   "cell_type": "code",
   "execution_count": 35,
   "id": "2d236b00",
   "metadata": {},
   "outputs": [
    {
     "data": {
      "image/png": "[encoded data removed]",
      "text/plain": [
       "<Figure size 1000x400 with 1 Axes>"
      ]
     },
     "metadata": {},
     "output_type": "display_data"
    },
    {
     "data": {
      "image/png": "[encoded data removed]",
      "text/plain": [
       "<Figure size 1000x400 with 1 Axes>"
      ]
     },
     "metadata": {},
     "output_type": "display_data"
    }
   ],
   "source": [
    "# Membuat plot akurasi model CNN\n",
    "plt.figure(figsize=(10,4))\n",
    "plt.plot(modelHistory.history['accuracy'])\n",
    "plt.plot(modelHistory.history['val_accuracy'])\n",
    "plt.title('Accuracy (batch size 16 dan epoch 10)')\n",
    "plt.ylabel('accuracy')\n",
    "plt.xlabel('epoch')\n",
    "plt.legend(['train', 'test'], loc='upper left')\n",
    "plt.grid(True)\n",
    "plt.show()\n",
    "\n",
    "# Membuat plot loss model CNN\n",
    "plt.figure(figsize=(10,4))\n",
    "plt.plot(modelHistory.history['loss'])\n",
    "plt.plot(modelHistory.history['val_loss'])\n",
    "plt.title('Loss (batch size 16 dan epoch 10)')\n",
    "plt.ylabel('loss')\n",
    "plt.xlabel('epoch')\n",
    "plt.legend(['train', 'test'], loc='upper left')\n",
    "plt.grid(True)\n",
    "plt.show()"
   ]
  },
  {
   "cell_type": "markdown",
   "id": "1266d1dc",
   "metadata": {},
   "source": [
    "### CLASSIFICATION"
   ]
  },
  {
   "cell_type": "code",
   "execution_count": 36,
   "id": "88a5d193",
   "metadata": {},
   "outputs": [
    {
     "name": "stdout",
     "output_type": "stream",
     "text": [
      "1/1 [==============================] - 0s 40ms/step\n"
     ]
    }
   ],
   "source": [
    "preprocess = TextPreprocessingResult.process(X_test[70]) \n",
    "preprocess = [\" \".join(preprocess)] \n",
    "res_preprocess = tokenizer.texts_to_sequences(preprocess) \n",
    "result = pad_sequences(res_preprocess, max_length, padding=\"post\") \n",
    "res_predict = embedding_model.predict(result) \n",
    "\n",
    "def hasil(text):\n",
    "    if res_predict.round() < 1:\n",
    "        text = \"Atypical Antipsychotics\"\n",
    "    else:\n",
    "        text = \"SSRI (Selective Serotonin Reuptake Inhibitors)\"\n",
    "    return text"
   ]
  },
  {
   "cell_type": "code",
   "execution_count": 37,
   "id": "a17e6e28",
   "metadata": {},
   "outputs": [
    {
     "name": "stdout",
     "output_type": "stream",
     "text": [
      "======================== DATA BEFORE PREPROCESSING ========================\n",
      "\n",
      " Abilitat 30 mg Tablet ( Agitation , Irritability , Schizophrenia , Tourette's Disorder , Mayor Depressive Disorder , Bipolar 1 Disorder , Mixed Manic Depressive Episode , Psychosis , Psychotic Depression , Acute Manic Episode )\n",
      "\n",
      "======================== DATA AFTER PREPROCESSING ========================\n",
      "\n",
      " [[188   2   6  25  74  10   1  12   3   1  11   1  17   9   3   4  27  75\n",
      "   18   7   9   4   0   0   0   0   0   0   0   0   0   0   0   0   0   0\n",
      "    0   0   0   0   0   0   0   0   0   0   0   0   0   0   0   0   0   0\n",
      "    0   0   0   0   0   0]]\n",
      "\n",
      "=============================== RESULT ================================\n",
      "[[0.]]  or  Atypical Antipsychotics\n"
     ]
    }
   ],
   "source": [
    "print(\"=\"*24,\"DATA BEFORE PREPROCESSING\",\"=\"*24)\n",
    "print(\"\\n\", X_test[70])\n",
    "print(\"\")\n",
    "print(\"=\"*24,\"DATA AFTER PREPROCESSING\",\"=\"*24)\n",
    "print(\"\\n\",result)\n",
    "print(\"\")\n",
    "print(\"=\"*31,\"RESULT\",\"=\"*32)\n",
    "print(res_predict.round(), \" or \", hasil(res_predict))"
   ]
  },
  {
   "cell_type": "code",
   "execution_count": null,
   "id": "266f196e",
   "metadata": {},
   "outputs": [],
   "source": []
  }
 ],
 "metadata": {
  "kernelspec": {
   "display_name": "Python 3 (ipykernel)",
   "language": "python",
   "name": "python3"
  },
  "language_info": {
   "codemirror_mode": {
    "name": "ipython",
    "version": 3
   },
   "file_extension": ".py",
   "mimetype": "text/x-python",
   "name": "python",
   "nbconvert_exporter": "python",
   "pygments_lexer": "ipython3",
   "version": "3.9.13"
  }
 },
 "nbformat": 4,
 "nbformat_minor": 5
}
